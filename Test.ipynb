{
 "cells": [
  {
   "cell_type": "code",
   "execution_count": 4,
   "id": "dd65d552",
   "metadata": {},
   "outputs": [
    {
     "name": "stdout",
     "output_type": "stream",
     "text": [
      "The autoreload extension is already loaded. To reload it, use:\n",
      "  %reload_ext autoreload\n"
     ]
    }
   ],
   "source": [
    "# Useful starting lines\n",
    "%matplotlib inline\n",
    "import numpy as np\n",
    "import matplotlib.pyplot as plt\n",
    "%load_ext autoreload\n",
    "%autoreload 2\n"
   ]
  },
  {
   "cell_type": "code",
   "execution_count": 5,
   "id": "73874510",
   "metadata": {},
   "outputs": [],
   "source": [
    "import implementations, function, helpers\n",
    "\n",
    "from implementations import *\n",
    "from function import *\n",
    "from helpers import *"
   ]
  },
  {
   "cell_type": "code",
   "execution_count": 6,
   "id": "1efc0dec",
   "metadata": {},
   "outputs": [],
   "source": [
    "data_path_tr = \"train.csv\"\n",
    "data_path_te = \"test.csv\"\n",
    "data_path_sub = \"sample-submission.csv\"\n",
    "\n",
    "# load data.\n",
    "y_tr, x_tr, ids_tr = load_csv_data(data_path_tr, sub_sample=False)\n",
    "y_te, x_te, ids_te = load_csv_data(data_path_te, sub_sample=False)\n",
    "y_su, x_su, ids_su = load_csv_data(data_path_sub, sub_sample=False)"
   ]
  },
  {
   "cell_type": "code",
   "execution_count": 7,
   "id": "c42ef26f",
   "metadata": {},
   "outputs": [],
   "source": [
    "x_tr_nan = put_nan(x_tr)\n",
    "x_te_nan = put_nan(x_te)"
   ]
  },
  {
   "cell_type": "code",
   "execution_count": 8,
   "id": "05204b24",
   "metadata": {},
   "outputs": [
    {
     "name": "stdout",
     "output_type": "stream",
     "text": [
      "(250000, 29)\n",
      "(568238, 29)\n"
     ]
    }
   ],
   "source": [
    "x_tr_class = x_tr_nan[:, 22]\n",
    "x_tr_reg = np.delete(x_tr_nan, 22, axis=1)\n",
    "print(x_tr_reg.shape)\n",
    "\n",
    "x_te_class = x_te_nan[:, 22]\n",
    "x_te_reg = np.delete(x_te_nan, 22, axis=1)\n",
    "print(x_te_reg.shape)"
   ]
  },
  {
   "cell_type": "code",
   "execution_count": 9,
   "id": "73482da0",
   "metadata": {},
   "outputs": [],
   "source": [
    "x_tr_filled = standardize_fill_nan(x_tr_reg)\n",
    "x_te_filled = standardize_fill_nan(x_te_reg)"
   ]
  },
  {
   "cell_type": "code",
   "execution_count": 8,
   "id": "fcf9946d",
   "metadata": {},
   "outputs": [],
   "source": [
    "X = np.concatenate((x_tr_filled,x_te_filled))"
   ]
  },
  {
   "cell_type": "code",
   "execution_count": null,
   "id": "e7138165",
   "metadata": {},
   "outputs": [],
   "source": [
    "R = np.corrcoef(x_tr_filled[:, 0:2])"
   ]
  },
  {
   "cell_type": "code",
   "execution_count": null,
   "id": "fc864647",
   "metadata": {},
   "outputs": [],
   "source": []
  }
 ],
 "metadata": {
  "kernelspec": {
   "display_name": "Python 3 (ipykernel)",
   "language": "python",
   "name": "python3"
  },
  "language_info": {
   "codemirror_mode": {
    "name": "ipython",
    "version": 3
   },
   "file_extension": ".py",
   "mimetype": "text/x-python",
   "name": "python",
   "nbconvert_exporter": "python",
   "pygments_lexer": "ipython3",
   "version": "3.9.7"
  }
 },
 "nbformat": 4,
 "nbformat_minor": 5
}
