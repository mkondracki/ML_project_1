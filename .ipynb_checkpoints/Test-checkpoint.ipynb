{
 "cells": [
  {
   "cell_type": "code",
   "execution_count": 3,
   "id": "0894e552",
   "metadata": {},
   "outputs": [
    {
     "name": "stdout",
     "output_type": "stream",
     "text": [
      "The autoreload extension is already loaded. To reload it, use:\n",
      "  %reload_ext autoreload\n"
     ]
    }
   ],
   "source": [
    "# Useful starting lines\n",
    "%matplotlib inline\n",
    "import numpy as np\n",
    "import matplotlib.pyplot as plt\n",
    "%load_ext autoreload\n",
    "%autoreload 2\n"
   ]
  },
  {
   "cell_type": "code",
   "execution_count": 2,
   "id": "0e829b17",
   "metadata": {},
   "outputs": [
    {
     "ename": "SyntaxError",
     "evalue": "invalid syntax (function.py, line 349)",
     "output_type": "error",
     "traceback": [
      "Traceback \u001b[0;36m(most recent call last)\u001b[0m:\n",
      "  File \u001b[1;32m\"/Users/leabliniere/opt/anaconda3/lib/python3.9/site-packages/IPython/core/interactiveshell.py\"\u001b[0m, line \u001b[1;32m3444\u001b[0m, in \u001b[1;35mrun_code\u001b[0m\n    exec(code_obj, self.user_global_ns, self.user_ns)\n",
      "\u001b[0;36m  File \u001b[0;32m\"/var/folders/8z/mnx7xvlx05b92k3kq3lf04_40000gn/T/ipykernel_6303/3064028231.py\"\u001b[0;36m, line \u001b[0;32m1\u001b[0;36m, in \u001b[0;35m<module>\u001b[0;36m\u001b[0m\n\u001b[0;31m    import implementations, function, helpers\u001b[0m\n",
      "\u001b[0;36m  File \u001b[0;32m\"/Users/leabliniere/Desktop/ML lab /Projet/Projet_ML/ML_project_1/function.py\"\u001b[0;36m, line \u001b[0;32m349\u001b[0m\n\u001b[0;31m    loss_te_deg = []\u001b[0m\n\u001b[0m    ^\u001b[0m\n\u001b[0;31mSyntaxError\u001b[0m\u001b[0;31m:\u001b[0m invalid syntax\n"
     ]
    }
   ],
   "source": [
    "import implementations, function, helpers\n",
    "\n",
    "from implementations import *\n",
    "from function import *\n",
    "from helpers import *"
   ]
  },
  {
   "cell_type": "code",
   "execution_count": 9,
   "id": "b916267c",
   "metadata": {},
   "outputs": [
    {
     "name": "stdout",
     "output_type": "stream",
     "text": [
      "[[0. 0.]\n",
      " [0. 0.]\n",
      " [0. 0.]]\n",
      "[1 1 1]\n",
      "[[1. 0.]\n",
      " [1. 0.]\n",
      " [1. 0.]]\n"
     ]
    }
   ],
   "source": [
    "u = np.zeros((3,2))\n",
    "print(u)\n",
    "v= np.full(3, 1)\n",
    "print(v)\n",
    "u[:,0] =v\n",
    "print(u)"
   ]
  },
  {
   "cell_type": "code",
   "execution_count": 6,
   "id": "1f580fd1",
   "metadata": {},
   "outputs": [],
   "source": [
    "data_path_tr = \"train.csv\"\n",
    "data_path_te = \"test.csv\"\n",
    "data_path_sub = \"sample-submission.csv\"\n",
    "\n",
    "# load data.\n",
    "y_tr, x_tr, ids_tr = load_csv_data(data_path_tr, sub_sample=False)\n",
    "y_te, x_te, ids_te = load_csv_data(data_path_te, sub_sample=False)\n",
    "y_su, x_su, ids_su = load_csv_data(data_path_sub, sub_sample=False)"
   ]
  },
  {
   "cell_type": "code",
   "execution_count": 7,
   "id": "82735f8e",
   "metadata": {},
   "outputs": [],
   "source": [
    "x_tr_nan = put_nan(x_tr)\n",
    "x_te_nan = put_nan(x_te)"
   ]
  },
  {
   "cell_type": "code",
   "execution_count": 8,
   "id": "a68b26e0",
   "metadata": {},
   "outputs": [
    {
     "name": "stdout",
     "output_type": "stream",
     "text": [
      "(250000, 29)\n",
      "(568238, 29)\n"
     ]
    }
   ],
   "source": [
    "x_tr_class = x_tr_nan[:, 22]\n",
    "x_tr_reg = np.delete(x_tr_nan, 22, axis=1)\n",
    "print(x_tr_reg.shape)\n",
    "\n",
    "x_te_class = x_te_nan[:, 22]\n",
    "x_te_reg = np.delete(x_te_nan, 22, axis=1)\n",
    "print(x_te_reg.shape)"
   ]
  },
  {
   "cell_type": "code",
   "execution_count": 9,
   "id": "bc61db88",
   "metadata": {},
   "outputs": [],
   "source": [
    "x_tr_filled = standardize_fill_nan(x_tr_reg)\n",
    "x_te_filled = standardize_fill_nan(x_te_reg)"
   ]
  },
  {
   "cell_type": "code",
   "execution_count": 8,
   "id": "4b313099",
   "metadata": {},
   "outputs": [],
   "source": [
    "X = np.concatenate((x_tr_filled,x_te_filled))"
   ]
  },
  {
   "cell_type": "code",
   "execution_count": null,
   "id": "ddf28ba7",
   "metadata": {},
   "outputs": [],
   "source": [
    "R = np.corrcoef(x_tr_filled[:, 0:2])"
   ]
  },
  {
   "cell_type": "code",
   "execution_count": 22,
   "id": "c5855a88",
   "metadata": {},
   "outputs": [
    {
     "name": "stdout",
     "output_type": "stream",
     "text": [
      "[[ 0  1  2  3]\n",
      " [ 4  5  6  7]\n",
      " [ 8  9 10 11]]\n",
      "[[  0   1   4   9]\n",
      " [ 16  25  36  49]\n",
      " [ 64  81 100 121]]\n"
     ]
    }
   ],
   "source": [
    "u = np.arange(12).reshape(3,4)\n",
    "print(u)\n",
    "\n",
    "\n",
    "v = np.multiply(u, u)\n",
    "print(v)"
   ]
  },
  {
   "cell_type": "code",
   "execution_count": 23,
   "id": "dbb35f2c",
   "metadata": {},
   "outputs": [],
   "source": [
    "np.hstack?"
   ]
  },
  {
   "cell_type": "code",
   "execution_count": 31,
   "id": "30b0954d",
   "metadata": {},
   "outputs": [
    {
     "name": "stdout",
     "output_type": "stream",
     "text": [
      "[[ 0  1  2  3]\n",
      " [ 4  5  6  7]\n",
      " [ 8  9 10 11]]\n"
     ]
    },
    {
     "ename": "TypeError",
     "evalue": "_vhstack_dispatcher() takes 1 positional argument but 2 were given",
     "output_type": "error",
     "traceback": [
      "\u001b[0;31m---------------------------------------------------------------------------\u001b[0m",
      "\u001b[0;31mTypeError\u001b[0m                                 Traceback (most recent call last)",
      "\u001b[0;32m/var/folders/8z/mnx7xvlx05b92k3kq3lf04_40000gn/T/ipykernel_6303/2265740612.py\u001b[0m in \u001b[0;36m<module>\u001b[0;34m\u001b[0m\n\u001b[1;32m      2\u001b[0m \u001b[0mprint\u001b[0m\u001b[0;34m(\u001b[0m\u001b[0mu\u001b[0m\u001b[0;34m)\u001b[0m\u001b[0;34m\u001b[0m\u001b[0;34m\u001b[0m\u001b[0m\n\u001b[1;32m      3\u001b[0m \u001b[0mu\u001b[0m\u001b[0;34m[\u001b[0m\u001b[0;34m:\u001b[0m\u001b[0;34m,\u001b[0m \u001b[0;36m1\u001b[0m\u001b[0;34m]\u001b[0m \u001b[0;34m**\u001b[0m \u001b[0;36m2\u001b[0m\u001b[0;34m\u001b[0m\u001b[0;34m\u001b[0m\u001b[0m\n\u001b[0;32m----> 4\u001b[0;31m \u001b[0mX\u001b[0m \u001b[0;34m=\u001b[0m \u001b[0mnp\u001b[0m\u001b[0;34m.\u001b[0m\u001b[0mhstack\u001b[0m\u001b[0;34m(\u001b[0m\u001b[0;34m(\u001b[0m\u001b[0mu\u001b[0m\u001b[0;34m,\u001b[0m \u001b[0;34m)\u001b[0m\u001b[0;34m,\u001b[0m\u001b[0mu\u001b[0m\u001b[0;34m[\u001b[0m\u001b[0;34m:\u001b[0m\u001b[0;34m,\u001b[0m \u001b[0;36m1\u001b[0m\u001b[0;34m]\u001b[0m \u001b[0;34m**\u001b[0m \u001b[0;36m2\u001b[0m\u001b[0;34m)\u001b[0m\u001b[0;34m\u001b[0m\u001b[0;34m\u001b[0m\u001b[0m\n\u001b[0m",
      "\u001b[0;32m<__array_function__ internals>\u001b[0m in \u001b[0;36mhstack\u001b[0;34m(*args, **kwargs)\u001b[0m\n",
      "\u001b[0;31mTypeError\u001b[0m: _vhstack_dispatcher() takes 1 positional argument but 2 were given"
     ]
    }
   ],
   "source": [
    "u = np.arange(12).reshape(3,4)\n",
    "print(u)\n",
    "u[:, 1] ** 2\n",
    "\n"
   ]
  },
  {
   "cell_type": "code",
   "execution_count": null,
   "id": "b65f9393",
   "metadata": {},
   "outputs": [],
   "source": [
    "u = np.arange(12).reshape(3,4)\n",
    "X = np.hstack((\n",
    "    u,\n",
    "    (u[:, 1] ** 2).reshape((m, 1)),\n",
    "    (u[:, 1] ** 3).reshape((m, 1)),\n",
    "    (u[:, 1] ** 4).reshape((m, 1))\n",
    "))"
   ]
  },
  {
   "cell_type": "code",
   "execution_count": null,
   "id": "6c682070",
   "metadata": {},
   "outputs": [],
   "source": []
  }
 ],
 "metadata": {
  "kernelspec": {
   "display_name": "Python 3 (ipykernel)",
   "language": "python",
   "name": "python3"
  },
  "language_info": {
   "codemirror_mode": {
    "name": "ipython",
    "version": 3
   },
   "file_extension": ".py",
   "mimetype": "text/x-python",
   "name": "python",
   "nbconvert_exporter": "python",
   "pygments_lexer": "ipython3",
   "version": "3.9.7"
  }
 },
 "nbformat": 4,
 "nbformat_minor": 5
}
