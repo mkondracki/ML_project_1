{
 "cells": [
  {
   "cell_type": "code",
   "execution_count": 3,
   "id": "815a0529",
   "metadata": {},
   "outputs": [
    {
     "name": "stdout",
     "output_type": "stream",
     "text": [
      "The autoreload extension is already loaded. To reload it, use:\n",
      "  %reload_ext autoreload\n"
     ]
    }
   ],
   "source": [
    "# Useful starting lines\n",
    "%matplotlib inline\n",
    "import numpy as np\n",
    "import matplotlib.pyplot as plt\n",
    "%load_ext autoreload\n",
    "%autoreload 2\n"
   ]
  },
  {
   "cell_type": "markdown",
   "id": "fb5ecbf4",
   "metadata": {},
   "source": [
    "## Load the data\n"
   ]
  },
  {
   "cell_type": "code",
<<<<<<< Updated upstream
   "execution_count": 2,
   "id": "c9f8b6fb",
   "metadata": {},
=======
   "execution_count": 4,
   "id": "c9f8b6fb",
   "metadata": {
    "scrolled": true
   },
>>>>>>> Stashed changes
   "outputs": [
    {
     "data": {
      "text/html": [
       "<div>\n",
       "<style scoped>\n",
       "    .dataframe tbody tr th:only-of-type {\n",
       "        vertical-align: middle;\n",
       "    }\n",
       "\n",
       "    .dataframe tbody tr th {\n",
       "        vertical-align: top;\n",
       "    }\n",
       "\n",
       "    .dataframe thead th {\n",
       "        text-align: right;\n",
       "    }\n",
       "</style>\n",
       "<table border=\"1\" class=\"dataframe\">\n",
       "  <thead>\n",
       "    <tr style=\"text-align: right;\">\n",
       "      <th></th>\n",
       "      <th>Id</th>\n",
       "      <th>Prediction</th>\n",
       "      <th>DER_mass_MMC</th>\n",
       "      <th>DER_mass_transverse_met_lep</th>\n",
       "      <th>DER_mass_vis</th>\n",
       "      <th>DER_pt_h</th>\n",
       "      <th>DER_deltaeta_jet_jet</th>\n",
       "      <th>DER_mass_jet_jet</th>\n",
       "      <th>DER_prodeta_jet_jet</th>\n",
       "      <th>DER_deltar_tau_lep</th>\n",
       "      <th>...</th>\n",
       "      <th>PRI_met_phi</th>\n",
       "      <th>PRI_met_sumet</th>\n",
       "      <th>PRI_jet_num</th>\n",
       "      <th>PRI_jet_leading_pt</th>\n",
       "      <th>PRI_jet_leading_eta</th>\n",
       "      <th>PRI_jet_leading_phi</th>\n",
       "      <th>PRI_jet_subleading_pt</th>\n",
       "      <th>PRI_jet_subleading_eta</th>\n",
       "      <th>PRI_jet_subleading_phi</th>\n",
       "      <th>PRI_jet_all_pt</th>\n",
       "    </tr>\n",
       "  </thead>\n",
       "  <tbody>\n",
       "    <tr>\n",
       "      <th>0</th>\n",
       "      <td>100000</td>\n",
       "      <td>s</td>\n",
       "      <td>138.470</td>\n",
       "      <td>51.655</td>\n",
       "      <td>97.827</td>\n",
       "      <td>27.980</td>\n",
       "      <td>0.910</td>\n",
       "      <td>124.711</td>\n",
       "      <td>2.666</td>\n",
       "      <td>3.064</td>\n",
       "      <td>...</td>\n",
       "      <td>-0.277</td>\n",
       "      <td>258.733</td>\n",
       "      <td>2</td>\n",
       "      <td>67.435</td>\n",
       "      <td>2.150</td>\n",
       "      <td>0.444</td>\n",
       "      <td>46.062</td>\n",
       "      <td>1.240</td>\n",
       "      <td>-2.475</td>\n",
       "      <td>113.497</td>\n",
       "    </tr>\n",
       "    <tr>\n",
       "      <th>1</th>\n",
       "      <td>100001</td>\n",
       "      <td>b</td>\n",
       "      <td>160.937</td>\n",
       "      <td>68.768</td>\n",
       "      <td>103.235</td>\n",
       "      <td>48.146</td>\n",
       "      <td>-999.000</td>\n",
       "      <td>-999.000</td>\n",
       "      <td>-999.000</td>\n",
       "      <td>3.473</td>\n",
       "      <td>...</td>\n",
       "      <td>-1.916</td>\n",
       "      <td>164.546</td>\n",
       "      <td>1</td>\n",
       "      <td>46.226</td>\n",
       "      <td>0.725</td>\n",
       "      <td>1.158</td>\n",
       "      <td>-999.000</td>\n",
       "      <td>-999.000</td>\n",
       "      <td>-999.000</td>\n",
       "      <td>46.226</td>\n",
       "    </tr>\n",
       "    <tr>\n",
       "      <th>2</th>\n",
       "      <td>100002</td>\n",
       "      <td>b</td>\n",
       "      <td>-999.000</td>\n",
       "      <td>162.172</td>\n",
       "      <td>125.953</td>\n",
       "      <td>35.635</td>\n",
       "      <td>-999.000</td>\n",
       "      <td>-999.000</td>\n",
       "      <td>-999.000</td>\n",
       "      <td>3.148</td>\n",
       "      <td>...</td>\n",
       "      <td>-2.186</td>\n",
       "      <td>260.414</td>\n",
       "      <td>1</td>\n",
       "      <td>44.251</td>\n",
       "      <td>2.053</td>\n",
       "      <td>-2.028</td>\n",
       "      <td>-999.000</td>\n",
       "      <td>-999.000</td>\n",
       "      <td>-999.000</td>\n",
       "      <td>44.251</td>\n",
       "    </tr>\n",
       "    <tr>\n",
       "      <th>3</th>\n",
       "      <td>100003</td>\n",
       "      <td>b</td>\n",
       "      <td>143.905</td>\n",
       "      <td>81.417</td>\n",
       "      <td>80.943</td>\n",
       "      <td>0.414</td>\n",
       "      <td>-999.000</td>\n",
       "      <td>-999.000</td>\n",
       "      <td>-999.000</td>\n",
       "      <td>3.310</td>\n",
       "      <td>...</td>\n",
       "      <td>0.060</td>\n",
       "      <td>86.062</td>\n",
       "      <td>0</td>\n",
       "      <td>-999.000</td>\n",
       "      <td>-999.000</td>\n",
       "      <td>-999.000</td>\n",
       "      <td>-999.000</td>\n",
       "      <td>-999.000</td>\n",
       "      <td>-999.000</td>\n",
       "      <td>0.000</td>\n",
       "    </tr>\n",
       "    <tr>\n",
       "      <th>4</th>\n",
       "      <td>100004</td>\n",
       "      <td>b</td>\n",
       "      <td>175.864</td>\n",
       "      <td>16.915</td>\n",
       "      <td>134.805</td>\n",
       "      <td>16.405</td>\n",
       "      <td>-999.000</td>\n",
       "      <td>-999.000</td>\n",
       "      <td>-999.000</td>\n",
       "      <td>3.891</td>\n",
       "      <td>...</td>\n",
       "      <td>-0.871</td>\n",
       "      <td>53.131</td>\n",
       "      <td>0</td>\n",
       "      <td>-999.000</td>\n",
       "      <td>-999.000</td>\n",
       "      <td>-999.000</td>\n",
       "      <td>-999.000</td>\n",
       "      <td>-999.000</td>\n",
       "      <td>-999.000</td>\n",
       "      <td>0.000</td>\n",
       "    </tr>\n",
       "    <tr>\n",
       "      <th>...</th>\n",
       "      <td>...</td>\n",
       "      <td>...</td>\n",
       "      <td>...</td>\n",
       "      <td>...</td>\n",
       "      <td>...</td>\n",
       "      <td>...</td>\n",
       "      <td>...</td>\n",
       "      <td>...</td>\n",
       "      <td>...</td>\n",
       "      <td>...</td>\n",
       "      <td>...</td>\n",
       "      <td>...</td>\n",
       "      <td>...</td>\n",
       "      <td>...</td>\n",
       "      <td>...</td>\n",
       "      <td>...</td>\n",
       "      <td>...</td>\n",
       "      <td>...</td>\n",
       "      <td>...</td>\n",
       "      <td>...</td>\n",
       "      <td>...</td>\n",
       "    </tr>\n",
       "    <tr>\n",
       "      <th>95</th>\n",
       "      <td>100095</td>\n",
       "      <td>b</td>\n",
       "      <td>98.181</td>\n",
       "      <td>68.298</td>\n",
       "      <td>77.216</td>\n",
       "      <td>1.170</td>\n",
       "      <td>-999.000</td>\n",
       "      <td>-999.000</td>\n",
       "      <td>-999.000</td>\n",
       "      <td>2.918</td>\n",
       "      <td>...</td>\n",
       "      <td>-3.011</td>\n",
       "      <td>52.207</td>\n",
       "      <td>0</td>\n",
       "      <td>-999.000</td>\n",
       "      <td>-999.000</td>\n",
       "      <td>-999.000</td>\n",
       "      <td>-999.000</td>\n",
       "      <td>-999.000</td>\n",
       "      <td>-999.000</td>\n",
       "      <td>0.000</td>\n",
       "    </tr>\n",
       "    <tr>\n",
       "      <th>96</th>\n",
       "      <td>100096</td>\n",
       "      <td>s</td>\n",
       "      <td>113.750</td>\n",
       "      <td>52.067</td>\n",
       "      <td>76.262</td>\n",
       "      <td>1.250</td>\n",
       "      <td>-999.000</td>\n",
       "      <td>-999.000</td>\n",
       "      <td>-999.000</td>\n",
       "      <td>2.962</td>\n",
       "      <td>...</td>\n",
       "      <td>0.234</td>\n",
       "      <td>97.737</td>\n",
       "      <td>0</td>\n",
       "      <td>-999.000</td>\n",
       "      <td>-999.000</td>\n",
       "      <td>-999.000</td>\n",
       "      <td>-999.000</td>\n",
       "      <td>-999.000</td>\n",
       "      <td>-999.000</td>\n",
       "      <td>0.000</td>\n",
       "    </tr>\n",
       "    <tr>\n",
       "      <th>97</th>\n",
       "      <td>100097</td>\n",
       "      <td>s</td>\n",
       "      <td>124.575</td>\n",
       "      <td>34.558</td>\n",
       "      <td>100.197</td>\n",
       "      <td>161.051</td>\n",
       "      <td>3.243</td>\n",
       "      <td>324.597</td>\n",
       "      <td>-2.626</td>\n",
       "      <td>1.479</td>\n",
       "      <td>...</td>\n",
       "      <td>-1.611</td>\n",
       "      <td>432.241</td>\n",
       "      <td>3</td>\n",
       "      <td>97.160</td>\n",
       "      <td>-1.686</td>\n",
       "      <td>2.858</td>\n",
       "      <td>42.808</td>\n",
       "      <td>1.557</td>\n",
       "      <td>1.534</td>\n",
       "      <td>171.763</td>\n",
       "    </tr>\n",
       "    <tr>\n",
       "      <th>98</th>\n",
       "      <td>100098</td>\n",
       "      <td>b</td>\n",
       "      <td>77.578</td>\n",
       "      <td>72.277</td>\n",
       "      <td>58.168</td>\n",
       "      <td>153.606</td>\n",
       "      <td>2.604</td>\n",
       "      <td>370.937</td>\n",
       "      <td>-1.597</td>\n",
       "      <td>0.988</td>\n",
       "      <td>...</td>\n",
       "      <td>1.565</td>\n",
       "      <td>351.780</td>\n",
       "      <td>2</td>\n",
       "      <td>111.656</td>\n",
       "      <td>-0.987</td>\n",
       "      <td>-0.035</td>\n",
       "      <td>92.256</td>\n",
       "      <td>1.617</td>\n",
       "      <td>-1.433</td>\n",
       "      <td>203.911</td>\n",
       "    </tr>\n",
       "    <tr>\n",
       "      <th>99</th>\n",
       "      <td>100099</td>\n",
       "      <td>b</td>\n",
       "      <td>107.350</td>\n",
       "      <td>20.354</td>\n",
       "      <td>77.755</td>\n",
       "      <td>89.044</td>\n",
       "      <td>4.449</td>\n",
       "      <td>564.836</td>\n",
       "      <td>-2.990</td>\n",
       "      <td>2.482</td>\n",
       "      <td>...</td>\n",
       "      <td>3.134</td>\n",
       "      <td>327.422</td>\n",
       "      <td>2</td>\n",
       "      <td>95.352</td>\n",
       "      <td>-0.825</td>\n",
       "      <td>-0.201</td>\n",
       "      <td>38.135</td>\n",
       "      <td>3.625</td>\n",
       "      <td>2.930</td>\n",
       "      <td>133.488</td>\n",
       "    </tr>\n",
       "  </tbody>\n",
       "</table>\n",
       "<p>100 rows × 32 columns</p>\n",
       "</div>"
      ],
      "text/plain": [
       "        Id Prediction  DER_mass_MMC  DER_mass_transverse_met_lep  \\\n",
       "0   100000          s       138.470                       51.655   \n",
       "1   100001          b       160.937                       68.768   \n",
       "2   100002          b      -999.000                      162.172   \n",
       "3   100003          b       143.905                       81.417   \n",
       "4   100004          b       175.864                       16.915   \n",
       "..     ...        ...           ...                          ...   \n",
       "95  100095          b        98.181                       68.298   \n",
       "96  100096          s       113.750                       52.067   \n",
       "97  100097          s       124.575                       34.558   \n",
       "98  100098          b        77.578                       72.277   \n",
       "99  100099          b       107.350                       20.354   \n",
       "\n",
       "    DER_mass_vis  DER_pt_h  DER_deltaeta_jet_jet  DER_mass_jet_jet  \\\n",
       "0         97.827    27.980                 0.910           124.711   \n",
       "1        103.235    48.146              -999.000          -999.000   \n",
       "2        125.953    35.635              -999.000          -999.000   \n",
       "3         80.943     0.414              -999.000          -999.000   \n",
       "4        134.805    16.405              -999.000          -999.000   \n",
       "..           ...       ...                   ...               ...   \n",
       "95        77.216     1.170              -999.000          -999.000   \n",
       "96        76.262     1.250              -999.000          -999.000   \n",
       "97       100.197   161.051                 3.243           324.597   \n",
       "98        58.168   153.606                 2.604           370.937   \n",
       "99        77.755    89.044                 4.449           564.836   \n",
       "\n",
       "    DER_prodeta_jet_jet  DER_deltar_tau_lep  ...  PRI_met_phi  PRI_met_sumet  \\\n",
       "0                 2.666               3.064  ...       -0.277        258.733   \n",
       "1              -999.000               3.473  ...       -1.916        164.546   \n",
       "2              -999.000               3.148  ...       -2.186        260.414   \n",
       "3              -999.000               3.310  ...        0.060         86.062   \n",
       "4              -999.000               3.891  ...       -0.871         53.131   \n",
       "..                  ...                 ...  ...          ...            ...   \n",
       "95             -999.000               2.918  ...       -3.011         52.207   \n",
       "96             -999.000               2.962  ...        0.234         97.737   \n",
       "97               -2.626               1.479  ...       -1.611        432.241   \n",
       "98               -1.597               0.988  ...        1.565        351.780   \n",
       "99               -2.990               2.482  ...        3.134        327.422   \n",
       "\n",
       "    PRI_jet_num  PRI_jet_leading_pt  PRI_jet_leading_eta  PRI_jet_leading_phi  \\\n",
       "0             2              67.435                2.150                0.444   \n",
       "1             1              46.226                0.725                1.158   \n",
       "2             1              44.251                2.053               -2.028   \n",
       "3             0            -999.000             -999.000             -999.000   \n",
       "4             0            -999.000             -999.000             -999.000   \n",
       "..          ...                 ...                  ...                  ...   \n",
       "95            0            -999.000             -999.000             -999.000   \n",
       "96            0            -999.000             -999.000             -999.000   \n",
       "97            3              97.160               -1.686                2.858   \n",
       "98            2             111.656               -0.987               -0.035   \n",
       "99            2              95.352               -0.825               -0.201   \n",
       "\n",
       "    PRI_jet_subleading_pt  PRI_jet_subleading_eta  PRI_jet_subleading_phi  \\\n",
       "0                  46.062                   1.240                  -2.475   \n",
       "1                -999.000                -999.000                -999.000   \n",
       "2                -999.000                -999.000                -999.000   \n",
       "3                -999.000                -999.000                -999.000   \n",
       "4                -999.000                -999.000                -999.000   \n",
       "..                    ...                     ...                     ...   \n",
       "95               -999.000                -999.000                -999.000   \n",
       "96               -999.000                -999.000                -999.000   \n",
       "97                 42.808                   1.557                   1.534   \n",
       "98                 92.256                   1.617                  -1.433   \n",
       "99                 38.135                   3.625                   2.930   \n",
       "\n",
       "    PRI_jet_all_pt  \n",
       "0          113.497  \n",
       "1           46.226  \n",
       "2           44.251  \n",
       "3            0.000  \n",
       "4            0.000  \n",
       "..             ...  \n",
       "95           0.000  \n",
       "96           0.000  \n",
       "97         171.763  \n",
       "98         203.911  \n",
       "99         133.488  \n",
       "\n",
       "[100 rows x 32 columns]"
      ]
     },
<<<<<<< Updated upstream
     "execution_count": 2,
=======
     "execution_count": 4,
>>>>>>> Stashed changes
     "metadata": {},
     "output_type": "execute_result"
    }
   ],
   "source": [
    "import pandas as pd\n",
    "\n",
    "df = pd.read_csv('train.csv')\n",
    "\n",
    "df.head(100)"
   ]
  },
  {
   "cell_type": "code",
<<<<<<< Updated upstream
   "execution_count": 3,
=======
   "execution_count": 5,
>>>>>>> Stashed changes
   "id": "c70b8a05",
   "metadata": {},
   "outputs": [],
   "source": [
    "from load import load_data_sample_sub, load_data_sample\n",
    "from helpers import load_csv_data\n",
    "\n",
<<<<<<< Updated upstream
    "# load data.\n",
    "id_, prediction = load_data_sample_sub()\n",
    "\n",
    "#load train_data \n",
    "id_tr, x_tr, prediction_tr = load_data_sample()\n",
    "y_tr = np.where(prediction_tr== 's', 0, 1 )\n",
    "#load test_data \n",
    "id_te, x_te, prediction_te = load_data_sample()\n",
    "y_te = np.where(prediction_te== 's', 0, 1 )"
=======
    "data_path_tr = \"train.csv\"\n",
    "data_path_te = \"test.csv\"\n",
    "data_path_sub = \"sample-submission.csv\"\n",
    "\n",
    "# load data.\n",
    "y_tr, x_tr, ids_tr = load_csv_data(data_path_tr, sub_sample=False)\n",
    "y_te, x_te, ids_te = load_csv_data(data_path_te, sub_sample=False)\n",
    "y_su, x_su, ids_su = load_csv_data(data_path_sub, sub_sample=False)\n"
   ]
  },
  {
   "cell_type": "markdown",
   "id": "7e2e6ce4",
   "metadata": {},
   "source": [
    "## Plot data"
>>>>>>> Stashed changes
   ]
  },
  {
   "cell_type": "markdown",
   "id": "bd296329",
   "metadata": {},
   "source": [
    "# Build sampled and standardize"
   ]
  },
  {
   "cell_type": "code",
<<<<<<< Updated upstream
   "execution_count": 4,
   "id": "da9404cb",
   "metadata": {},
   "outputs": [],
   "source": [
    "from load import sample_data, standardize\n",
    "\n",
    "seed = 1\n",
    "#y_tr = np.expand_dims(y_tr, axis=1)\n",
    "#y_te = np.expand_dims(y_te, axis=1)\n",
    "\n",
    "y_tr, x_tr = sample_data(y_tr, x_tr, seed, size_samples=200)\n",
    "x_tr, mean_x, std_x = standardize(x_tr)\n"
=======
   "execution_count": 8,
   "id": "da9404cb",
   "metadata": {},
   "outputs": [
    {
     "name": "stdout",
     "output_type": "stream",
     "text": [
      "(250000, 30)\n"
     ]
    }
   ],
   "source": [
    "x_tr_nan = np.where(x_tr==-999.000, np.nan, x_tr)\n",
    "\n",
    "print(x_tr_nan.shape)\n"
   ]
  },
  {
   "cell_type": "markdown",
   "id": "15ff8c7e",
   "metadata": {},
   "source": [
    "Standardize the data using standardize from load.py  \n",
    "We make sure to standardize the continuous data and not the classified one."
>>>>>>> Stashed changes
   ]
  },
  {
   "cell_type": "code",
<<<<<<< Updated upstream
   "execution_count": 5,
   "id": "b12f6cc5",
=======
   "execution_count": null,
   "id": "fcf3219b",
>>>>>>> Stashed changes
   "metadata": {},
   "outputs": [],
   "source": [
    "from load import *\n",
    "\n",
    "x_tr_class = x_tr_nan[:, 22]\n",
    "x_tr_reg = np.delete(x_tr_nan, 22, axis=1)\n",
    "\n",
    "x_tr_norm, x_tr_mean, x_tr_std = standardize(x_tr_red)\n",
    "\n",
    "x_tr_median = np.nanmedian(x_tr_norm, axis=0)\n",
    "x_tr_filled = fill_nan(x_tr_norm, x_tr_median)\n"
   ]
  },
  {
   "cell_type": "markdown",
   "id": "1ba905c2",
   "metadata": {},
   "source": [
    "# TRAIN Gradient descent "
   ]
  },
  {
   "cell_type": "code",
   "execution_count": 10,
   "id": "56048d33",
   "metadata": {},
   "outputs": [
    {
<<<<<<< Updated upstream
     "data": {
      "text/plain": [
       "(200, 30)"
      ]
     },
     "execution_count": 5,
     "metadata": {},
     "output_type": "execute_result"
    }
   ],
   "source": [
    "y_tr.shape\n",
    "\n",
    "\n",
    "\n",
    "\n",
    "\n",
    "\n",
    "######\n",
    "x_tr.shape"
=======
     "ename": "NameError",
     "evalue": "name 'tx' is not defined",
     "output_type": "error",
     "traceback": [
      "\u001b[0;31m---------------------------------------------------------------------------\u001b[0m",
      "\u001b[0;31mNameError\u001b[0m                                 Traceback (most recent call last)",
      "\u001b[0;32m/var/folders/8z/mnx7xvlx05b92k3kq3lf04_40000gn/T/ipykernel_20094/3539316755.py\u001b[0m in \u001b[0;36m<module>\u001b[0;34m\u001b[0m\n\u001b[1;32m      7\u001b[0m \u001b[0;31m# Define the parameters of the algorithm.\u001b[0m\u001b[0;34m\u001b[0m\u001b[0;34m\u001b[0m\u001b[0m\n\u001b[1;32m      8\u001b[0m \u001b[0mlambda_\u001b[0m \u001b[0;34m=\u001b[0m \u001b[0;36m0\u001b[0m\u001b[0;34m\u001b[0m\u001b[0;34m\u001b[0m\u001b[0m\n\u001b[0;32m----> 9\u001b[0;31m \u001b[0minitial_w\u001b[0m \u001b[0;34m=\u001b[0m \u001b[0mnp\u001b[0m\u001b[0;34m.\u001b[0m\u001b[0mfull\u001b[0m\u001b[0;34m(\u001b[0m\u001b[0mtx\u001b[0m\u001b[0;34m.\u001b[0m\u001b[0mshape\u001b[0m\u001b[0;34m[\u001b[0m\u001b[0;36m1\u001b[0m\u001b[0;34m]\u001b[0m\u001b[0;34m,\u001b[0m \u001b[0;36m3\u001b[0m\u001b[0;34m)\u001b[0m\u001b[0;34m\u001b[0m\u001b[0;34m\u001b[0m\u001b[0m\n\u001b[0m\u001b[1;32m     10\u001b[0m \u001b[0mmax_iters\u001b[0m \u001b[0;34m=\u001b[0m \u001b[0;36m50\u001b[0m\u001b[0;34m\u001b[0m\u001b[0;34m\u001b[0m\u001b[0m\n\u001b[1;32m     11\u001b[0m \u001b[0mgamma\u001b[0m \u001b[0;34m=\u001b[0m \u001b[0;34m-\u001b[0m\u001b[0;36m1\u001b[0m\u001b[0;34m\u001b[0m\u001b[0;34m\u001b[0m\u001b[0m\n",
      "\u001b[0;31mNameError\u001b[0m: name 'tx' is not defined"
     ]
    }
   ],
   "source": [
    "# from gradient_descent import *\n",
    "\n",
    "from datetime import datetime\n",
    "#from plots import *\n",
    "from implementations import *\n",
    "\n",
    "# Define the parameters of the algorithm.\n",
    "lambda_ = 0\n",
    "initial_w = np.full(tx.shape[1], 3)\n",
    "max_iters = 50\n",
    "gamma = -1\n",
    "\n",
    "tx = x_tr_filled\n",
    "y = y_tr\n",
    "\n",
    "print(y.shape)\n",
    "\n",
    "\n",
    "# Initialization\n",
    "w_initial = np.array(tx.shape[1])\n",
    "\n",
    "# Start gradient descent\n",
    "start_time = datetime.now()\n",
    "\n",
    "w, losses = reg_logistic_regression(y, tx, lambda_, initial_w, max_iters, gamma)\n",
    "\n",
    "end_time = datetime.now()\n",
    "\n",
    "# Print result\n",
    "execution_time = (end_time - start_time).total_seconds()\n",
    "print(\"GD: execution time={t:.3f} seconds\".format(t=execution_time))\n",
    "print(losses)"
>>>>>>> Stashed changes
   ]
  },
  {
   "cell_type": "markdown",
   "id": "5a1350c3",
   "metadata": {},
   "source": [
    "# TEST"
   ]
  },
  {
   "cell_type": "code",
   "execution_count": 11,
   "id": "29fcfefc",
   "metadata": {},
   "outputs": [
    {
     "ename": "NameError",
     "evalue": "name 'tx' is not defined",
     "output_type": "error",
     "traceback": [
      "\u001b[0;31m---------------------------------------------------------------------------\u001b[0m",
      "\u001b[0;31mNameError\u001b[0m                                 Traceback (most recent call last)",
      "\u001b[0;32m/var/folders/8z/mnx7xvlx05b92k3kq3lf04_40000gn/T/ipykernel_20094/3068176421.py\u001b[0m in \u001b[0;36m<module>\u001b[0;34m\u001b[0m\n\u001b[0;32m----> 1\u001b[0;31m \u001b[0mprint\u001b[0m\u001b[0;34m(\u001b[0m\u001b[0mtx\u001b[0m\u001b[0;34m.\u001b[0m\u001b[0mshape\u001b[0m\u001b[0;34m)\u001b[0m\u001b[0;34m\u001b[0m\u001b[0;34m\u001b[0m\u001b[0m\n\u001b[0m\u001b[1;32m      2\u001b[0m \u001b[0;34m\u001b[0m\u001b[0m\n\u001b[1;32m      3\u001b[0m \u001b[0mproba\u001b[0m \u001b[0;34m=\u001b[0m \u001b[0mx_sub\u001b[0m\u001b[0;34m@\u001b[0m\u001b[0mw\u001b[0m\u001b[0;34m\u001b[0m\u001b[0;34m\u001b[0m\u001b[0m\n\u001b[1;32m      4\u001b[0m \u001b[0my_hat\u001b[0m\u001b[0;34m=\u001b[0m\u001b[0;34m[\u001b[0m\u001b[0;34m]\u001b[0m\u001b[0;34m\u001b[0m\u001b[0;34m\u001b[0m\u001b[0m\n\u001b[1;32m      5\u001b[0m \u001b[0;34m\u001b[0m\u001b[0m\n",
      "\u001b[0;31mNameError\u001b[0m: name 'tx' is not defined"
     ]
    }
   ],
   "source": [
    "print(tx.shape)\n",
    "\n",
    "proba = x_sub@w\n",
    "y_hat=[]\n",
    "\n",
    "for i in proba:\n",
    "    if i>0:\n",
    "        y_hat.append(1)\n",
    "    else :\n",
    "        y_hat.append(-1)\n",
    "\n",
    "total_loss = np.sum(np.abs(y_te-y_hat))/len(y_te)\n",
    "\n",
    "print(total_loss)"
   ]
  },
  {
   "cell_type": "markdown",
   "id": "30ec414d",
   "metadata": {},
   "source": [
    "# Create csv for submission"
   ]
  },
  {
   "cell_type": "code",
   "execution_count": 12,
   "id": "94e7c07d",
   "metadata": {},
   "outputs": [
    {
     "ename": "NameError",
     "evalue": "name 'id_' is not defined",
     "output_type": "error",
     "traceback": [
      "\u001b[0;31m---------------------------------------------------------------------------\u001b[0m",
      "\u001b[0;31mNameError\u001b[0m                                 Traceback (most recent call last)",
      "\u001b[0;32m/var/folders/8z/mnx7xvlx05b92k3kq3lf04_40000gn/T/ipykernel_20094/2267927536.py\u001b[0m in \u001b[0;36m<module>\u001b[0;34m\u001b[0m\n\u001b[1;32m      1\u001b[0m \u001b[0;32mfrom\u001b[0m \u001b[0mhelpers\u001b[0m \u001b[0;32mimport\u001b[0m \u001b[0;34m*\u001b[0m\u001b[0;34m\u001b[0m\u001b[0;34m\u001b[0m\u001b[0m\n\u001b[1;32m      2\u001b[0m \u001b[0;34m\u001b[0m\u001b[0m\n\u001b[0;32m----> 3\u001b[0;31m \u001b[0mcreate_csv_submission\u001b[0m\u001b[0;34m(\u001b[0m\u001b[0mid_\u001b[0m\u001b[0;34m,\u001b[0m \u001b[0my_hat\u001b[0m\u001b[0;34m,\u001b[0m \u001b[0;34m'test_1'\u001b[0m\u001b[0;34m)\u001b[0m\u001b[0;34m\u001b[0m\u001b[0;34m\u001b[0m\u001b[0m\n\u001b[0m",
      "\u001b[0;31mNameError\u001b[0m: name 'id_' is not defined"
     ]
    }
   ],
   "source": [
    "from helpers import *\n",
    "\n",
    "create_csv_submission(id_, y_hat, 'test_1')"
   ]
  },
  {
   "cell_type": "markdown",
   "id": "00303c5b",
   "metadata": {},
   "source": [
    "# Cross validation "
   ]
  },
  {
   "cell_type": "code",
   "execution_count": 34,
   "id": "a97f5b86",
   "metadata": {},
   "outputs": [
    {
     "name": "stdout",
     "output_type": "stream",
     "text": [
      "(818238,)\n"
     ]
    }
   ],
   "source": [
    "#concatenate x train and x test in order to achieve cross validation\n",
    "y = np.concatenate((y_tr, y_te), axis = 0)\n",
    "x = np.concatenate((x_tr, x_te), axis = 0)\n",
    "print(y.shape)"
   ]
  },
  {
   "cell_type": "code",
<<<<<<< Updated upstream
   "execution_count": 6,
   "id": "56048d33",
=======
   "execution_count": null,
   "id": "5b7c4a08",
>>>>>>> Stashed changes
   "metadata": {},
   "outputs": [
    {
     "ename": "ModuleNotFoundError",
     "evalue": "No module named 'implementation'",
     "output_type": "error",
     "traceback": [
      "\u001b[0;31m---------------------------------------------------------------------------\u001b[0m",
      "\u001b[0;31mModuleNotFoundError\u001b[0m                       Traceback (most recent call last)",
      "\u001b[0;32m/var/folders/8z/mnx7xvlx05b92k3kq3lf04_40000gn/T/ipykernel_13536/258559718.py\u001b[0m in \u001b[0;36m<module>\u001b[0;34m\u001b[0m\n\u001b[1;32m      2\u001b[0m \u001b[0;34m\u001b[0m\u001b[0m\n\u001b[1;32m      3\u001b[0m \u001b[0;31m#from plots import gradient_descent_visualization\u001b[0m\u001b[0;34m\u001b[0m\u001b[0;34m\u001b[0m\u001b[0m\n\u001b[0;32m----> 4\u001b[0;31m \u001b[0;32mfrom\u001b[0m \u001b[0mimplementation\u001b[0m \u001b[0;32mimport\u001b[0m \u001b[0mleast_squares_GD\u001b[0m\u001b[0;34m\u001b[0m\u001b[0;34m\u001b[0m\u001b[0m\n\u001b[0m\u001b[1;32m      5\u001b[0m \u001b[0;34m\u001b[0m\u001b[0m\n\u001b[1;32m      6\u001b[0m \u001b[0;31m# Define the parameters of the algorithm.\u001b[0m\u001b[0;34m\u001b[0m\u001b[0;34m\u001b[0m\u001b[0m\n",
      "\u001b[0;31mModuleNotFoundError\u001b[0m: No module named 'implementation'"
     ]
    }
   ],
   "source": [
    "def build_k_indices(y, k_fold, seed):\n",
    "    \"\"\"build k indices for k-fold.\n",
    "    \n",
    "    Args:\n",
    "        y:      shape=(N,) = 818238\n",
    "        k_fold: K in K-fold, i.e. the fold num\n",
    "        seed:   the random seed\n",
    "\n",
    "    Returns:\n",
    "        A 2D array of shape=(k_fold, N/k_fold) that indicates the data indices for each fold\n",
    "\n",
    "    >>> build_k_indices(np.array([1., 2., 3., 4.]), 2, 1)\n",
    "    array([[3, 2],\n",
    "           [0, 1]])\n",
    "    \"\"\"\n",
    "    num_row = y.shape[0]\n",
    "    interval = int(num_row / k_fold)\n",
    "    np.random.seed(seed)\n",
    "    indices = np.random.permutation(num_row)\n",
    "    k_indices = [indices[k * interval: (k + 1) * interval] for k in range(k_fold)]\n",
    "    return np.array(k_indices)"
   ]
  },
  {
   "cell_type": "code",
   "execution_count": 67,
   "id": "fe4f5d9a",
   "metadata": {},
   "outputs": [],
   "source": [
    "def cross_validation(y, x, k_indices, k, lambda_, degree):\n",
    "\n",
    "    # get k'th subgroup in test, others in train\n",
    "    ind_te = k_indices[k]\n",
    "    ind_tr = k_indices[~(np.arange(k_indices.shape[0]) == k)]\n",
    "    ind_tr = ind_tr.reshape(-1)\n",
    "\n",
    "    x_te  = x[ind_te]\n",
    "    x_tr = x[ind_tr]\n",
    "    y_te  = y[ind_te]\n",
    "    y_tr = y[ind_tr]\n",
    "    \n",
    "    x_te_p = build_poly(x_te, degree)\n",
    "    x_tr_p = build_poly(x_tr, degree)\n",
    "\n",
    "    # ridge regression\n",
    "    w = ridge_regression(y_tr, x_tr_p , lambda_) \n",
    "\n",
    "    # calculate the loss for train and test data\n",
    "    loss_tr = np.sqrt(2*compute_loss(y_tr,x_tr_p , w, 'mse')) \n",
    "    loss_te = np.sqrt(2*compute_loss(y_te,x_te_p , w, 'mse'))\n",
    "\n",
    "    return loss_tr, loss_te"
   ]
  },
  {
   "cell_type": "code",
   "execution_count": 59,
   "id": "14772765",
   "metadata": {},
   "outputs": [],
   "source": [
    "def cross_validation_visualization(lambds, rmse_tr, rmse_te):\n",
    "    \"\"\"visualization the curves of rmse_tr and rmse_te.\"\"\"\n",
    "    plt.semilogx(lambds, rmse_tr, marker=\".\", color='b', label='train error')\n",
    "    plt.semilogx(lambds, rmse_te, marker=\".\", color='r', label='test error')\n",
    "    plt.xlabel(\"lambda\")\n",
    "    plt.ylabel(\"r mse\")\n",
    "    #plt.xlim(1e-4, 1)\n",
    "    plt.title(\"cross validation\")\n",
    "    plt.legend(loc=2)\n",
    "    plt.grid(True)\n",
    "    plt.savefig(\"cross_validation\")"
   ]
  },
  {
   "cell_type": "code",
   "execution_count": 61,
   "id": "0d3b1fac",
   "metadata": {},
   "outputs": [
    {
     "name": "stdout",
     "output_type": "stream",
     "text": [
      "For polynomial expansion up to degree 7, the choice of lambda which leads to the best test rmse is 0.00010 with a test rmse of 0.789\n"
     ]
    },
    {
     "data": {
      "image/png": "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\n",
      "text/plain": [
       "<Figure size 432x288 with 1 Axes>"
      ]
     },
     "metadata": {
      "needs_background": "light"
     },
     "output_type": "display_data"
    }
   ],
   "source": [
    "def cross_validation_demo(degree, k_fold, lambdas):\n",
    "    \"\"\"cross validation over regularisation parameter lambda.\n",
    "    \n",
    "    Args:\n",
    "        degree: integer, degree of the polynomial expansion\n",
    "        k_fold: integer, the number of folds\n",
    "        lambdas: shape = (p, ) where p is the number of values of lambda to test\n",
    "    Returns:\n",
    "        best_lambda : scalar, value of the best lambda\n",
    "        best_rmse : scalar, the associated root mean squared error for the best lambda\n",
    "    \"\"\"\n",
    "    \n",
    "    seed = 12\n",
    "    degree = degree\n",
    "    k_fold = k_fold\n",
    "    lambdas = lambdas\n",
    "    # split data in k fold\n",
    "    k_indices = build_k_indices(y, k_fold, seed)\n",
    "    # define lists to store the loss of training data and test data\n",
    "    rmse_tr = []\n",
    "    rmse_te = []\n",
    "    # ***************************************************\n",
    "    # INSERT YOUR CODE HERE\n",
    "    # cross validation over lambdas: TODO\n",
    "    # ***************************************************\n",
    "    for ind, lambda_ in enumerate(lambdas):\n",
    "        rmse_tr_k = []\n",
    "        rmse_te_k = []\n",
    "        \n",
    "        for k in range(k_fold):\n",
    "            loss_tr, loss_te = cross_validation(y, x, k_indices, k, lambda_, degree)\n",
    "            rmse_tr_k = np.append(rmse_tr_k,loss_tr)\n",
    "            rmse_te_k = np.append(rmse_te_k,loss_te)\n",
    "        rmse_tr = np.append(rmse_tr,np.mean(rmse_tr_k))\n",
    "        rmse_te = np.append(rmse_te,np.mean(rmse_te_k))\n",
    "        \n",
    "    index_min = np.argmin(rmse_te)\n",
    "    best_rmse = rmse_te[index_min]\n",
    "    best_lambda = lambdas[index_min]\n",
    "    \n",
    "    cross_validation_visualization(lambdas, rmse_tr, rmse_te)\n",
    "    \n",
    "    print(\"For polynomial expansion up to degree %.f, the choice of lambda which leads to the best test rmse is %.5f with a test rmse of %.3f\" % (degree, best_lambda, best_rmse))\n",
    "    return best_lambda, best_rmse\n",
    "\n",
    "\n",
    "best_lambda, best_rmse = cross_validation_demo(7, 4, np.logspace(-4, 0, 30))"
   ]
  },
  {
   "cell_type": "code",
   "execution_count": 62,
   "id": "7da1491b",
   "metadata": {},
   "outputs": [],
   "source": [
    "def best_degree_selection(degrees, k_fold, lambdas, seed = 1):\n",
    "    \"\"\"cross validation over regularisation parameter lambda and degree.\n",
    "    \n",
    "    Args:\n",
    "        degrees: shape = (d,), where d is the number of degrees to test \n",
    "        k_fold: integer, the number of folds\n",
    "        lambdas: shape = (p, ) where p is the number of values of lambda to test\n",
    "    Returns:\n",
    "        best_degree : integer, value of the best degree\n",
    "        best_lambda : scalar, value of the best lambda\n",
    "        best_rmse : value of the rmse for the couple (best_degree, best_lambda)\n",
    "        \n",
    "    >>> best_degree_selection(np.arange(2,11), 4, np.logspace(-4, 0, 30))\n",
    "    (7, 0.004520353656360241, 0.28957280566456634)\n",
    "    \"\"\"\n",
    "    \n",
    "    # split data in k fold\n",
    "    k_indices = build_k_indices(y, k_fold, seed)\n",
    "    \n",
    "    # ***************************************************\n",
    "    # INSERT YOUR CODE HERE\n",
    "    # cross validation over degrees and lambdas: TODO\n",
    "    # ***************************************************\n",
    "    \n",
    "    best_lambdas = []\n",
    "    best_degree = []\n",
    "    best_rmses = []\n",
    "\n",
    "    for degree in degrees : \n",
    "        rmse_te = []\n",
    "        for lambda_ in lambdas :\n",
    "            rmse_te_k = []\n",
    "            for k in range(k_fold):\n",
    "                loss_tr, loss_te = cross_validation(y, x, k_indices, k, lambda_, degree)\n",
    "                rmse_te_k = np.append(rmse_te,loss_te)\n",
    "            rmse_te = np.append(rmse_te, np.mean(rmse_te_k))\n",
    "        ind_best_lambda = np.argmin(rmse_te)\n",
    "        best_lambdas = np.append(best_lambdas, lambdas[ind_best_lambda])\n",
    "        best_rmses = np.append(best_rmses, rmse_te[ind_best_lambda])\n",
    "\n",
    "    best_degree = degrees[np.argmin(best_rmses)]\n",
    "    best_lambda = lambdas[np.argmin(best_rmses)]\n",
    "    best_rmse = best_rmses[np.argmin(best_rmses)]\n",
    "    return best_degree, best_lambda, best_rmse"
   ]
  },
  {
   "cell_type": "code",
   "execution_count": null,
   "id": "880296ed",
   "metadata": {},
   "outputs": [],
   "source": [
    "best_degree, best_lambda, best_rmse = best_degree_selection(np.arange(2,11), 4, np.logspace(-4, 0, 30))"
   ]
  },
  {
   "cell_type": "code",
   "execution_count": 64,
   "id": "210e97fe",
   "metadata": {},
   "outputs": [
    {
     "data": {
      "text/plain": [
       "2"
      ]
     },
     "execution_count": 64,
     "metadata": {},
     "output_type": "execute_result"
    }
   ],
   "source": [
    "best_degree\n"
   ]
  },
  {
   "cell_type": "code",
   "execution_count": 65,
   "id": "14f00b07",
   "metadata": {},
   "outputs": [
    {
     "data": {
      "text/plain": [
       "0.0001"
      ]
     },
     "execution_count": 65,
     "metadata": {},
     "output_type": "execute_result"
    }
   ],
   "source": [
    "best_lambda "
   ]
  },
  {
   "cell_type": "code",
   "execution_count": 66,
   "id": "14148ba0",
   "metadata": {},
   "outputs": [
    {
     "data": {
      "text/plain": [
       "0.7901843113881054"
      ]
     },
     "execution_count": 66,
     "metadata": {},
     "output_type": "execute_result"
    }
   ],
   "source": [
    "best_rmse"
   ]
  },
  {
   "cell_type": "code",
   "execution_count": null,
   "id": "5e3d5921",
   "metadata": {},
   "outputs": [],
   "source": []
  }
 ],
 "metadata": {
  "kernelspec": {
   "display_name": "Python 3 (ipykernel)",
   "language": "python",
   "name": "python3"
  },
  "language_info": {
   "codemirror_mode": {
    "name": "ipython",
    "version": 3
   },
   "file_extension": ".py",
   "mimetype": "text/x-python",
   "name": "python",
   "nbconvert_exporter": "python",
   "pygments_lexer": "ipython3",
   "version": "3.9.7"
  }
 },
 "nbformat": 4,
 "nbformat_minor": 5
}
